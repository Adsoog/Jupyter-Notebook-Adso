{
 "cells": [
  {
   "cell_type": "markdown",
   "metadata": {},
   "source": [
    "<center>\n",
    "    <img src=\"https://cf-courses-data.s3.us.cloud-object-storage.appdomain.cloud/IBMDeveloperSkillsNetwork-DS0105EN-SkillsNetwork/labs/Module2/images/SN_web_lightmode.png\" width=\"300\" alt=\"cognitiveclass.ai logo\"  />\n",
    "</center>\n"
   ]
  },
  {
   "cell_type": "markdown",
   "metadata": {},
   "source": [
    "#### Add your code below following the instructions given in the course\n"
   ]
  },
  {
   "cell_type": "markdown",
   "metadata": {},
   "source": [
    "# My Jupiter Notebook on IBM Watson Studio"
   ]
  },
  {
   "cell_type": "markdown",
   "metadata": {},
   "source": [
    "**Adso Martin Obregon Gutierrez**\n",
    "\n",
    "Currently student "
   ]
  },
  {
   "cell_type": "markdown",
   "metadata": {},
   "source": [
    "_I am interested in data science because the job opportunities and improve my lifestyle, i think this course is great and with discipline i will be able to become a Data Scientist  **plus ultra!**_"
   ]
  },
  {
   "cell_type": "markdown",
   "metadata": {},
   "source": [
    "### My code is a regular sum "
   ]
  },
  {
   "cell_type": "code",
   "execution_count": 1,
   "metadata": {},
   "outputs": [
    {
     "name": "stdout",
     "output_type": "stream",
     "text": [
      "3\n"
     ]
    }
   ],
   "source": [
    "a = 2\n",
    "b = 1\n",
    "sum = a + b\n",
    "print(a + b)"
   ]
  },
  {
   "cell_type": "markdown",
   "metadata": {},
   "source": [
    "## **Final thoughts** \n",
    "\n",
    "----\n",
    "\n",
    "  * This course is great\n",
    "  * IBM Watson is very complex\n",
    "  * I am very excited to continue\n",
    "  \n",
    "I can put this on a table with some extra items:\n",
    "\n",
    "    1. Thoughts\n",
    "    2. Decisions\n",
    "    \n",
    "Thoughts|Decisions\n",
    "---|---\n",
    "This course is great|I am very excited to continue  \n",
    "\n",
    "\n",
    "> Thanks for review this and Plus ultra!! \n",
    "\n",
    "![Duck](https://i.redd.it/httnnw16vpk81.png)\n",
    "\n",
    "[What does a programmer look like?](https://devcamp.com/site_blogs/top-5-programming-memes)\n"
   ]
  },
  {
   "cell_type": "code",
   "execution_count": null,
   "metadata": {},
   "outputs": [],
   "source": []
  }
 ],
 "metadata": {
  "kernelspec": {
   "display_name": "Python",
   "language": "python",
   "name": "conda-env-python-py"
  },
  "language_info": {
   "codemirror_mode": {
    "name": "ipython",
    "version": 3
   },
   "file_extension": ".py",
   "mimetype": "text/x-python",
   "name": "python",
   "nbconvert_exporter": "python",
   "pygments_lexer": "ipython3",
   "version": "3.7.12"
  }
 },
 "nbformat": 4,
 "nbformat_minor": 4
}
